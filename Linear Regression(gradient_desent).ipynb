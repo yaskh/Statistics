{
 "cells": [
  {
   "cell_type": "code",
   "execution_count": 5,
   "metadata": {},
   "outputs": [],
   "source": [
    "import numpy as np\n",
    "import pandas as pd"
   ]
  },
  {
   "cell_type": "code",
   "execution_count": 6,
   "metadata": {},
   "outputs": [],
   "source": [
    "dataset = pd.read_csv(\"HappinessAlcoholConsumption.csv\",usecols=['Spirit_PerCapita','HappinessScore'])"
   ]
  },
  {
   "cell_type": "code",
   "execution_count": 7,
   "metadata": {},
   "outputs": [
    {
     "data": {
      "text/html": [
       "<div>\n",
       "<style scoped>\n",
       "    .dataframe tbody tr th:only-of-type {\n",
       "        vertical-align: middle;\n",
       "    }\n",
       "\n",
       "    .dataframe tbody tr th {\n",
       "        vertical-align: top;\n",
       "    }\n",
       "\n",
       "    .dataframe thead th {\n",
       "        text-align: right;\n",
       "    }\n",
       "</style>\n",
       "<table border=\"1\" class=\"dataframe\">\n",
       "  <thead>\n",
       "    <tr style=\"text-align: right;\">\n",
       "      <th></th>\n",
       "      <th>HappinessScore</th>\n",
       "      <th>Spirit_PerCapita</th>\n",
       "    </tr>\n",
       "  </thead>\n",
       "  <tbody>\n",
       "    <tr>\n",
       "      <th>0</th>\n",
       "      <td>7.526</td>\n",
       "      <td>81</td>\n",
       "    </tr>\n",
       "    <tr>\n",
       "      <th>1</th>\n",
       "      <td>7.509</td>\n",
       "      <td>100</td>\n",
       "    </tr>\n",
       "    <tr>\n",
       "      <th>2</th>\n",
       "      <td>7.501</td>\n",
       "      <td>61</td>\n",
       "    </tr>\n",
       "    <tr>\n",
       "      <th>3</th>\n",
       "      <td>7.498</td>\n",
       "      <td>71</td>\n",
       "    </tr>\n",
       "    <tr>\n",
       "      <th>4</th>\n",
       "      <td>7.413</td>\n",
       "      <td>133</td>\n",
       "    </tr>\n",
       "  </tbody>\n",
       "</table>\n",
       "</div>"
      ],
      "text/plain": [
       "   HappinessScore  Spirit_PerCapita\n",
       "0           7.526                81\n",
       "1           7.509               100\n",
       "2           7.501                61\n",
       "3           7.498                71\n",
       "4           7.413               133"
      ]
     },
     "execution_count": 7,
     "metadata": {},
     "output_type": "execute_result"
    }
   ],
   "source": [
    "dataset.head()\n"
   ]
  },
  {
   "cell_type": "code",
   "execution_count": 8,
   "metadata": {},
   "outputs": [],
   "source": [
    "matrix = np.array(dataset.values,'float')"
   ]
  },
  {
   "cell_type": "code",
   "execution_count": 9,
   "metadata": {},
   "outputs": [
    {
     "name": "stdout",
     "output_type": "stream",
     "text": [
      "[ 81. 100.  61.  71. 133. 122.  88.  79.  72.  60.  69.  75. 158.  87.\n",
      " 117. 145.  84. 118. 133.  68.  12. 126. 124. 104.  25. 170. 135.  35.\n",
      " 100.  76. 151. 258.  42. 157.  69. 178.  63. 156. 100. 293.  69. 118.\n",
      " 101.  42.  74. 114. 202. 246. 226. 326. 215.  16.  41. 244. 373.  51.\n",
      " 160.  71.  31. 216. 154. 117. 122. 194.  97.  87.  22.  21.  46. 186.\n",
      " 192.  97. 131. 173. 114. 147.   6. 215.  55.  67.  27.   2.   3. 112.\n",
      " 189.   5.  98.  19. 132.   3.   3.   1.  76.   4. 179.  22. 237.   3.\n",
      "   3. 100.   1.   1. 252.  18.  11.  98.   1. 326.  35.   3.   1.  65.\n",
      "  57.   2.   1.   7.  15.   6. 152.   4.   2.  35.]\n"
     ]
    }
   ],
   "source": [
    "X = matrix[:,1]\n",
    "print(X)"
   ]
  },
  {
   "cell_type": "code",
   "execution_count": 10,
   "metadata": {},
   "outputs": [
    {
     "name": "stdout",
     "output_type": "stream",
     "text": [
      "[7.526 7.509 7.501 7.498 7.413 7.404 7.339 7.334 7.313 7.291 7.267 7.119\n",
      " 7.104 7.087 6.994 6.952 6.929 6.907 6.871 6.778 6.739 6.725 6.705 6.701\n",
      " 6.65  6.596 6.573 6.545 6.488 6.481 6.478 6.474 6.375 6.361 6.324 6.269\n",
      " 6.218 6.168 6.084 6.078 6.068 5.992 5.987 5.977 5.976 5.956 5.921 5.919\n",
      " 5.897 5.856 5.835 5.835 5.822 5.813 5.802 5.768 5.743 5.658 5.648 5.56\n",
      " 5.546 5.538 5.528 5.517 5.51  5.488 5.389 5.303 5.291 5.279 5.245 5.185\n",
      " 5.177 5.163 5.161 5.155 5.151 5.145 5.129 5.123 5.121 5.061 5.045 5.033\n",
      " 4.907 4.875 4.871 4.795 4.655 4.635 4.574 4.513 4.459 4.362 4.36  4.356\n",
      " 4.324 4.276 4.272 4.252 4.236 4.219 4.217 4.193 4.156 4.121 4.073 4.028\n",
      " 3.974 3.956 3.916 3.907 3.866 3.856 3.763 3.739 3.695 3.666 3.622 3.484\n",
      " 3.303 3.069]\n"
     ]
    }
   ],
   "source": [
    "y = matrix[:,0]\n",
    "print(y)"
   ]
  },
  {
   "cell_type": "code",
   "execution_count": 11,
   "metadata": {},
   "outputs": [
    {
     "name": "stdout",
     "output_type": "stream",
     "text": [
      "[0.21715818 0.26809651 0.16353887 0.19034853 0.35656836 0.32707775\n",
      " 0.23592493 0.21179625 0.19302949 0.16085791 0.1849866  0.20107239\n",
      " 0.42359249 0.23324397 0.31367292 0.38873995 0.22520107 0.31635389\n",
      " 0.35656836 0.18230563 0.03217158 0.33780161 0.33243968 0.27882038\n",
      " 0.06702413 0.45576408 0.36193029 0.09383378 0.26809651 0.20375335\n",
      " 0.40482574 0.69168901 0.11260054 0.42091153 0.1849866  0.4772118\n",
      " 0.1689008  0.41823056 0.26809651 0.78552279 0.1849866  0.31635389\n",
      " 0.27077748 0.11260054 0.19839142 0.30563003 0.54155496 0.65951743\n",
      " 0.60589812 0.87399464 0.57640751 0.04289544 0.10991957 0.6541555\n",
      " 1.         0.13672922 0.42895442 0.19034853 0.08310992 0.57908847\n",
      " 0.41286863 0.31367292 0.32707775 0.52010724 0.26005362 0.23324397\n",
      " 0.05898123 0.05630027 0.1233244  0.49865952 0.51474531 0.26005362\n",
      " 0.35120643 0.46380697 0.30563003 0.39410188 0.01608579 0.57640751\n",
      " 0.14745308 0.17962466 0.07238606 0.00536193 0.0080429  0.3002681\n",
      " 0.50670241 0.01340483 0.26273458 0.05093834 0.3538874  0.0080429\n",
      " 0.0080429  0.00268097 0.20375335 0.01072386 0.47989276 0.05898123\n",
      " 0.63538874 0.0080429  0.0080429  0.26809651 0.00268097 0.00268097\n",
      " 0.67560322 0.04825737 0.02949062 0.26273458 0.00268097 0.87399464\n",
      " 0.09383378 0.0080429  0.00268097 0.17426273 0.15281501 0.00536193\n",
      " 0.00268097 0.01876676 0.04021448 0.01608579 0.4075067  0.01072386\n",
      " 0.00536193 0.09383378]\n"
     ]
    }
   ],
   "source": [
    "X = X/(np.max(X)) \n",
    "print(X)"
   ]
  },
  {
   "cell_type": "code",
   "execution_count": 12,
   "metadata": {},
   "outputs": [],
   "source": [
    "import matplotlib.pyplot as plt"
   ]
  },
  {
   "cell_type": "code",
   "execution_count": 13,
   "metadata": {},
   "outputs": [
    {
     "data": {
      "image/png": "[encoded data removed]",
      "text/plain": [
       "<Figure size 432x288 with 1 Axes>"
      ]
     },
     "metadata": {
      "needs_background": "light"
     },
     "output_type": "display_data"
    }
   ],
   "source": [
    "plt.xlabel(\"Alcohol Consumption\")\n",
    "plt.ylabel(\"Happiness\")\n",
    "plt.plot(X,y,\"bo\")\n",
    "plt.grid()"
   ]
  },
  {
   "cell_type": "code",
   "execution_count": 14,
   "metadata": {},
   "outputs": [],
   "source": [
    "def cost(X,y,m,c):\n",
    "    error = 0\n",
    "    for i in range(len(X)):\n",
    "        error += (y[i] - ((m * X[i]) + c))**2\n",
    "    return error / float(len(X))\n",
    "        \n",
    "\n",
    "    "
   ]
  },
  {
   "cell_type": "code",
   "execution_count": 29,
   "metadata": {},
   "outputs": [],
   "source": [
    "def gradientDesent(X,y,m,c,step):\n",
    "    dervative_m = 0\n",
    "    dervative_c = 0\n",
    "    for i in range(len(X)):\n",
    "        dervative_m = dervative_m + ((y[i] - (m * X[i]) + c) * X[i])\n",
    "        derivative_c = dervative_c + (y[i] - (m * X[i]) + c)\n",
    "    derivative_c = (derivative_c * 2) /len(X) \n",
    "    derivative_m = (dervative_m * 2) /len(X) \n",
    "    m = m + dervative_m * step\n",
    "    c = c + dervative_c * step\n",
    "    return m,c\n",
    "\n",
    "    \n",
    "        "
   ]
  },
  {
   "cell_type": "code",
   "execution_count": 30,
   "metadata": {},
   "outputs": [],
   "source": [
    "def prediect():\n",
    "    pass"
   ]
  },
  {
   "cell_type": "code",
   "execution_count": 43,
   "metadata": {},
   "outputs": [],
   "source": [
    "def run(X,y):\n",
    "    step = 0.0005\n",
    "    m = c = -10000\n",
    "    for i in range(0,10000):\n",
    "        cost_val = cost(X,y,m,c)\n",
    "        m,c = gradientDesent(X,y,m,c,step)\n",
    "    return m,c"
   ]
  },
  {
   "cell_type": "code",
   "execution_count": 44,
   "metadata": {},
   "outputs": [],
   "source": [
    "m,c = run(X,y)"
   ]
  },
  {
   "cell_type": "code",
   "execution_count": 45,
   "metadata": {},
   "outputs": [
    {
     "name": "stdout",
     "output_type": "stream",
     "text": [
      "-22635.875956501633 -10000.0\n"
     ]
    }
   ],
   "source": [
    "print(m,c)"
   ]
  },
  {
   "cell_type": "code",
   "execution_count": null,
   "metadata": {},
   "outputs": [],
   "source": []
  }
 ],
 "metadata": {
  "kernelspec": {
   "display_name": "Python 3",
   "language": "python",
   "name": "python3"
  },
  "language_info": {
   "codemirror_mode": {
    "name": "ipython",
    "version": 3
   },
   "file_extension": ".py",
   "mimetype": "text/x-python",
   "name": "python",
   "nbconvert_exporter": "python",
   "pygments_lexer": "ipython3",
   "version": "3.6.8"
  }
 },
 "nbformat": 4,
 "nbformat_minor": 2
}
