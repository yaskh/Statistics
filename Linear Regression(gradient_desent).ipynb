{
 "cells": [
  {
   "cell_type": "code",
   "execution_count": 2,
   "metadata": {},
   "outputs": [],
   "source": [
    "import numpy as np\n",
    "import pandas as pd"
   ]
  },
  {
   "cell_type": "code",
   "execution_count": 3,
   "metadata": {},
   "outputs": [],
   "source": [
    "dataset = pd.read_csv(\"data.csv\")"
   ]
  },
  {
   "cell_type": "code",
   "execution_count": 4,
   "metadata": {},
   "outputs": [
    {
     "data": {
      "text/html": [
       "<div>\n",
       "<style scoped>\n",
       "    .dataframe tbody tr th:only-of-type {\n",
       "        vertical-align: middle;\n",
       "    }\n",
       "\n",
       "    .dataframe tbody tr th {\n",
       "        vertical-align: top;\n",
       "    }\n",
       "\n",
       "    .dataframe thead th {\n",
       "        text-align: right;\n",
       "    }\n",
       "</style>\n",
       "<table border=\"1\" class=\"dataframe\">\n",
       "  <thead>\n",
       "    <tr style=\"text-align: right;\">\n",
       "      <th></th>\n",
       "      <th>32.502345269453031</th>\n",
       "      <th>31.70700584656992</th>\n",
       "    </tr>\n",
       "  </thead>\n",
       "  <tbody>\n",
       "    <tr>\n",
       "      <th>0</th>\n",
       "      <td>53.426804</td>\n",
       "      <td>68.777596</td>\n",
       "    </tr>\n",
       "    <tr>\n",
       "      <th>1</th>\n",
       "      <td>61.530358</td>\n",
       "      <td>62.562382</td>\n",
       "    </tr>\n",
       "    <tr>\n",
       "      <th>2</th>\n",
       "      <td>47.475640</td>\n",
       "      <td>71.546632</td>\n",
       "    </tr>\n",
       "    <tr>\n",
       "      <th>3</th>\n",
       "      <td>59.813208</td>\n",
       "      <td>87.230925</td>\n",
       "    </tr>\n",
       "    <tr>\n",
       "      <th>4</th>\n",
       "      <td>55.142188</td>\n",
       "      <td>78.211518</td>\n",
       "    </tr>\n",
       "  </tbody>\n",
       "</table>\n",
       "</div>"
      ],
      "text/plain": [
       "   32.502345269453031  31.70700584656992\n",
       "0           53.426804          68.777596\n",
       "1           61.530358          62.562382\n",
       "2           47.475640          71.546632\n",
       "3           59.813208          87.230925\n",
       "4           55.142188          78.211518"
      ]
     },
     "execution_count": 4,
     "metadata": {},
     "output_type": "execute_result"
    }
   ],
   "source": [
    "dataset.head()\n"
   ]
  },
  {
   "cell_type": "code",
   "execution_count": 5,
   "metadata": {},
   "outputs": [],
   "source": [
    "matrix = np.array(dataset.values,'float')"
   ]
  },
  {
   "cell_type": "code",
   "execution_count": 6,
   "metadata": {},
   "outputs": [
    {
     "name": "stdout",
     "output_type": "stream",
     "text": [
      "[53.42680403 61.53035803 47.47563963 59.81320787 55.14218841 52.21179669\n",
      " 39.29956669 48.10504169 52.55001444 45.41973014 54.35163488 44.1640495\n",
      " 58.16847072 56.72720806 48.95588857 44.68719623 60.29732685 45.61864377\n",
      " 38.81681754 66.18981661 65.41605175 47.48120861 41.57564262 51.84518691\n",
      " 59.37082201 57.31000344 63.61556125 46.73761941 50.55676015 52.22399609\n",
      " 35.56783005 42.43647694 58.16454011 57.50444762 45.44053073 61.89622268\n",
      " 33.09383174 36.43600951 37.67565486 44.55560838 43.31828263 50.07314563\n",
      " 43.87061265 62.99748075 32.66904376 40.16689901 53.57507753 33.86421497\n",
      " 64.70713867 38.11982403 44.50253806 40.59953838 41.72067636 51.08863468\n",
      " 55.0780959  41.37772653 62.49469743 49.20388754 41.10268519 41.18201611\n",
      " 50.18638949 52.37844622 50.13548549 33.64470601 39.55790122 56.13038882\n",
      " 57.36205213 60.26921439 35.67809389 31.588117   53.66093226 46.68222865\n",
      " 43.10782022 70.34607562 44.49285588 57.5045333  36.93007661 55.80573336\n",
      " 38.95476907 56.9012147  56.86890066 34.3331247  59.04974121 57.78822399\n",
      " 54.28232871 51.0887199  50.28283635 44.21174175 38.00548801 32.94047994\n",
      " 53.69163957 68.76573427 46.2309665  68.31936082 50.03017434 49.23976534\n",
      " 50.03957594 48.14985889 25.12848465]\n"
     ]
    }
   ],
   "source": [
    "X = matrix[:,0]\n",
    "print(X)"
   ]
  },
  {
   "cell_type": "code",
   "execution_count": 7,
   "metadata": {},
   "outputs": [
    {
     "name": "stdout",
     "output_type": "stream",
     "text": [
      "[ 68.77759598  62.5623823   71.54663223  87.23092513  78.21151827\n",
      "  79.64197305  59.17148932  75.3312423   71.30087989  55.16567715\n",
      "  82.47884676  62.00892325  75.39287043  81.43619216  60.72360244\n",
      "  82.89250373  97.37989686  48.84715332  56.87721319  83.87856466\n",
      " 118.5912173   57.25181946  51.39174408  75.38065167  74.76556403\n",
      "  95.45505292  95.22936602  79.05240617  83.43207142  63.35879032\n",
      "  41.4128853   76.61734128  96.76956643  74.08413012  66.58814441\n",
      "  77.76848242  50.71958891  62.12457082  60.81024665  52.68298337\n",
      "  58.56982472  82.90598149  61.4247098  115.2441528   45.57058882\n",
      "  54.0840548   87.99445276  52.72549438  93.57611869  80.16627545\n",
      "  65.10171157  65.56230126  65.28088692  73.43464155  71.13972786\n",
      "  79.10282968  86.52053844  84.74269781  59.35885025  61.68403752\n",
      "  69.84760416  86.09829121  59.10883927  69.89968164  44.86249071\n",
      "  85.49806778  95.53668685  70.25193442  52.72173496  50.39267014\n",
      "  63.64239878  72.24725107  57.81251298 104.25710159  86.64202032\n",
      "  91.486778    55.23166089  79.55043668  44.84712424  80.20752314\n",
      "  83.14274979  55.72348926  77.63418251  99.05141484  79.12064627\n",
      "  69.58889785  69.51050331  73.68756432  61.36690454  67.17065577\n",
      "  85.66820315 114.85387123  90.12357207  97.91982104  81.53699078\n",
      "  72.11183247  85.23200734  66.22495789  53.45439421]\n"
     ]
    }
   ],
   "source": [
    "y = matrix[:,1]\n",
    "print(y)"
   ]
  },
  {
   "cell_type": "code",
   "execution_count": 7,
   "metadata": {},
   "outputs": [
    {
     "name": "stdout",
     "output_type": "stream",
     "text": [
      "[0.75948521 0.87468075 0.67488683 0.85027071 0.78387014 0.74221335\n",
      " 0.5586604  0.68383405 0.74702127 0.64566118 0.77263208 0.62781113\n",
      " 0.82689006 0.80640189 0.69592921 0.63524789 0.85715267 0.64848882\n",
      " 0.55179791 0.94091697 0.92991757 0.67496599 0.59101581 0.73700184\n",
      " 0.84398201 0.81468658 0.90432282 0.66439555 0.71868629 0.74238677\n",
      " 0.50561214 0.60325294 0.82683419 0.81745068 0.64595687 0.87988167\n",
      " 0.47044318 0.51795369 0.53557579 0.63337731 0.61578819 0.7118115\n",
      " 0.6236398  0.89553653 0.46440464 0.5709899  0.76159298 0.48139452\n",
      " 0.91984006 0.54188985 0.6326229  0.57714006 0.59307752 0.72624712\n",
      " 0.78295904 0.58820234 0.88838925 0.69945462 0.58429251 0.58542023\n",
      " 0.71342131 0.74458235 0.71269769 0.4782741  0.56233274 0.79791784\n",
      " 0.81542647 0.85675304 0.50717959 0.44903879 0.76281344 0.66360814\n",
      " 0.61279638 1.         0.63248526 0.8174519  0.52497707 0.79330272\n",
      " 0.55375895 0.80887547 0.80841611 0.48806027 0.8394177  0.82148469\n",
      " 0.77164686 0.72624833 0.71479234 0.6284891  0.54026451 0.46826322\n",
      " 0.76324996 0.97753476 0.65719326 0.97118937 0.71120064 0.69996464\n",
      " 0.71133429 0.68447114 0.35721232]\n"
     ]
    }
   ],
   "source": [
    "X = X/(np.max(X)) \n",
    "print(X)"
   ]
  },
  {
   "cell_type": "code",
   "execution_count": 8,
   "metadata": {},
   "outputs": [],
   "source": [
    "import matplotlib.pyplot as plt"
   ]
  },
  {
   "cell_type": "code",
   "execution_count": 9,
   "metadata": {},
   "outputs": [
    {
     "data": {
      "image/png": "[encoded data removed]",
      "text/plain": [
       "<Figure size 432x288 with 1 Axes>"
      ]
     },
     "metadata": {
      "needs_background": "light"
     },
     "output_type": "display_data"
    }
   ],
   "source": [
    "plt.xlabel(\"Alcohol Consumption\")\n",
    "plt.ylabel(\"Happiness\")\n",
    "plt.plot(X,y,\"bo\")\n",
    "plt.grid()"
   ]
  },
  {
   "cell_type": "code",
   "execution_count": 10,
   "metadata": {},
   "outputs": [],
   "source": [
    "def cost(X,y,m,c):\n",
    "    error = 0\n",
    "    for i in range(len(X)):\n",
    "        error += (y[i] - ((m * X[i]) + c))**2\n",
    "    return error / float(len(X))\n",
    "        \n",
    "\n",
    "    "
   ]
  },
  {
   "cell_type": "code",
   "execution_count": 11,
   "metadata": {},
   "outputs": [],
   "source": [
    "def gradientDesent(X,y,m,c,step):\n",
    "    dervative_m = 0\n",
    "    dervative_c = 0\n",
    "    for i in range(len(X)):\n",
    "        dervative_m += -((y[i] - (m * X[i]) - c) * X[i])\n",
    "        dervative_c += -(y[i] - ((m * X[i]) - c))\n",
    "    dervative_c = (dervative_c * 2) /len(X) \n",
    "    dervative_m = (dervative_m * 2) /len(X) \n",
    "    m = m - (dervative_m * step)\n",
    "    c = c - (dervative_c * step)\n",
    "    return m,c"
   ]
  },
  {
   "cell_type": "code",
   "execution_count": 60,
   "metadata": {},
   "outputs": [],
   "source": [
    "def run(X,y):\n",
    "    \n",
    "    step = 0.0001\n",
    "    m = c = 0\n",
    "    cost_list = []\n",
    "    for i in range(0,10):\n",
    "        cost_list.append(cost(X,y,m,c))\n",
    "        m,c = gradientDesent(X,y,m,c,step)\n",
    "    return m,c,cost_list\n"
   ]
  },
  {
   "cell_type": "code",
   "execution_count": 61,
   "metadata": {},
   "outputs": [],
   "source": [
    "def predict(X,y,m,c):\n",
    "    y_pred = []\n",
    "    for i in range(len(X)):\n",
    "        y_pred.append((m*X[i]) + c)\n",
    "    return y_pred\n"
   ]
  },
  {
   "cell_type": "code",
   "execution_count": 62,
   "metadata": {},
   "outputs": [],
   "source": [
    "m,c,cost_list = run(X,y)"
   ]
  },
  {
   "cell_type": "code",
   "execution_count": 63,
   "metadata": {},
   "outputs": [
    {
     "data": {
      "image/png": "[encoded data removed]",
      "text/plain": [
       "<Figure size 432x288 with 1 Axes>"
      ]
     },
     "metadata": {
      "needs_background": "light"
     },
     "output_type": "display_data"
    }
   ],
   "source": [
    "plt.plot(X,y,\"bo\")\n",
    "y_pred = predict(X,y,m,c)\n",
    "plt.plot(X,y_pred,\"r\")\n",
    "plt.grid()\n"
   ]
  },
  {
   "cell_type": "code",
   "execution_count": 66,
   "metadata": {},
   "outputs": [],
   "source": [
    "iteration = range(0,10)"
   ]
  },
  {
   "cell_type": "code",
   "execution_count": 67,
   "metadata": {},
   "outputs": [
    {
     "data": {
      "text/plain": [
       "[<matplotlib.lines.Line2D at 0x7f67544b4828>]"
      ]
     },
     "execution_count": 67,
     "metadata": {},
     "output_type": "execute_result"
    },
    {
     "data": {
      "image/png": "[encoded data removed]",
      "text/plain": [
       "<Figure size 432x288 with 1 Axes>"
      ]
     },
     "metadata": {
      "needs_background": "light"
     },
     "output_type": "display_data"
    }
   ],
   "source": [
    "plt.plot(iteration,cost_list,linewidth=2.0)\n",
    "\n"
   ]
  },
  {
   "cell_type": "code",
   "execution_count": null,
   "metadata": {},
   "outputs": [],
   "source": []
  }
 ],
 "metadata": {
  "kernelspec": {
   "display_name": "Python 3",
   "language": "python",
   "name": "python3"
  },
  "language_info": {
   "codemirror_mode": {
    "name": "ipython",
    "version": 3
   },
   "file_extension": ".py",
   "mimetype": "text/x-python",
   "name": "python",
   "nbconvert_exporter": "python",
   "pygments_lexer": "ipython3",
   "version": "3.6.8"
  }
 },
 "nbformat": 4,
 "nbformat_minor": 2
}
