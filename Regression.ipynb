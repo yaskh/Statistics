{
 "cells": [
  {
   "cell_type": "code",
   "execution_count": 1,
   "metadata": {},
   "outputs": [],
   "source": [
    "#Importing the libraries\n",
    "import numpy as np \n",
    "import matplotlib.pyplot as plt\n",
    "import pandas as pd \n"
   ]
  },
  {
   "cell_type": "code",
   "execution_count": 6,
   "metadata": {},
   "outputs": [],
   "source": [
    "data = pd.read_csv(\"regression.txt\",sep = ',')"
   ]
  },
  {
   "cell_type": "code",
   "execution_count": 7,
   "metadata": {},
   "outputs": [],
   "source": [
    "#Slicing the dataset \n",
    "\n",
    "data_x = data.iloc[:,0].values\n",
    "data_y = data.iloc[:,-1].values\n"
   ]
  },
  {
   "cell_type": "code",
   "execution_count": 8,
   "metadata": {},
   "outputs": [],
   "source": [
    "#Calculating the mean using numpy \n",
    "#X and y value both\n",
    "\n",
    "mean_x = np.mean(data_x)\n",
    "mean_y = np.mean(data_y)\n"
   ]
  },
  {
   "cell_type": "code",
   "execution_count": 9,
   "metadata": {},
   "outputs": [],
   "source": [
    "#Calculating the standard deviation and variance \n",
    "std_x = np.std(data_x,ddof=1)\n",
    "var_x = std_x**2     #Not used ahead\n",
    "std_y = np.std(data_y,ddof = 1)\n",
    "var_y = std_y**2     #Not used ahead\n"
   ]
  },
  {
   "cell_type": "code",
   "execution_count": 10,
   "metadata": {},
   "outputs": [],
   "source": [
    "n = len(data_x)"
   ]
  },
  {
   "cell_type": "code",
   "execution_count": 11,
   "metadata": {},
   "outputs": [],
   "source": [
    "zscore_x = []\n",
    "zscore_y = []\n"
   ]
  },
  {
   "cell_type": "code",
   "execution_count": 12,
   "metadata": {},
   "outputs": [],
   "source": [
    "#sum(zscore of x[i])* (zscore of y[i])\n",
    "\n",
    "#zscore = list(map(lambda x,y : ((x - mean_x)/std_x)*((y - mean_y)/std_y ),data_x,data_y))\n",
    "zscore = list(map(lambda x,y : (x-mean_x) * (y-mean_y) ,data_x,data_y))\n",
    "zscores = list(map(lambda x : x/(std_x * std_y),zscore))\n"
   ]
  },
  {
   "cell_type": "code",
   "execution_count": 20,
   "metadata": {},
   "outputs": [
    {
     "name": "stdout",
     "output_type": "stream",
     "text": [
      "-0.994952324034469\n"
     ]
    }
   ],
   "source": [
    "\"\"\"\n",
    "    Note:\n",
    "        R here refers to coefficent of correlation \n",
    "        Not the residual value of indivisual data point. \n",
    "    \n",
    "\"\"\"\n",
    "# r = (1/(n-1)) * sum(zscores)\n",
    "r = (1/(n-1)) * sum(zscores)\n",
    "print(r)"
   ]
  },
  {
   "cell_type": "code",
   "execution_count": 14,
   "metadata": {},
   "outputs": [
    {
     "name": "stdout",
     "output_type": "stream",
     "text": [
      "-0.9950792439213677\n"
     ]
    }
   ],
   "source": [
    "\n",
    "# slope of the line equals to r * (std_y/std_x)\n",
    "\n",
    "m = (std_y/std_x) * r\n",
    "print(m)"
   ]
  },
  {
   "cell_type": "code",
   "execution_count": 16,
   "metadata": {},
   "outputs": [
    {
     "name": "stdout",
     "output_type": "stream",
     "text": [
      "5.173565788500929e-05\n"
     ]
    }
   ],
   "source": [
    "c = mean_y - m * mean_x\n",
    "print(c)"
   ]
  },
  {
   "cell_type": "code",
   "execution_count": 17,
   "metadata": {},
   "outputs": [],
   "source": [
    "#Generating points from minimum value of x to maximum value of x \n",
    "x = np.linspace(min(data_x),max(data_x),100)\n",
    "y = m*x + c"
   ]
  },
  {
   "cell_type": "code",
   "execution_count": 18,
   "metadata": {},
   "outputs": [
    {
     "data": {
      "image/png": "[encoded data removed]",
      "text/plain": [
       "<Figure size 432x288 with 1 Axes>"
      ]
     },
     "metadata": {
      "needs_background": "light"
     },
     "output_type": "display_data"
    }
   ],
   "source": [
    "\n",
    "plt.scatter(data_x,data_y)\n",
    "plt.plot(x, y, '-r', label='y=2x+1')\n",
    "\n",
    "plt.show()"
   ]
  },
  {
   "cell_type": "code",
   "execution_count": 19,
   "metadata": {},
   "outputs": [],
   "source": [
    "#A perfect fit to the data! "
   ]
  },
  {
   "cell_type": "code",
   "execution_count": null,
   "metadata": {},
   "outputs": [],
   "source": [
    "\"\"\"To do:\n",
    "        Check this fit again sklearn simple linear regression \n",
    "        Calculating the r squared value.\n",
    "        \n",
    "\"\"\""
   ]
  }
 ],
 "metadata": {
  "kernelspec": {
   "display_name": "Python 3",
   "language": "python",
   "name": "python3"
  },
  "language_info": {
   "codemirror_mode": {
    "name": "ipython",
    "version": 3
   },
   "file_extension": ".py",
   "mimetype": "text/x-python",
   "name": "python",
   "nbconvert_exporter": "python",
   "pygments_lexer": "ipython3",
   "version": "3.6.8"
  }
 },
 "nbformat": 4,
 "nbformat_minor": 2
}
